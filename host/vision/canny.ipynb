{
 "cells": [
  {
   "cell_type": "code",
   "execution_count": 1,
   "metadata": {},
   "outputs": [],
   "source": [
    "import numpy as np\n",
    "import cv2 as cv\n",
    "from matplotlib import pyplot as plt\n",
    "plt.rcParams['figure.figsize'] = [25, 25]\n",
    "plt.rcParams['figure.dpi'] = 300 # 200 e.g. is really fine, but slower"
   ]
  },
  {
   "cell_type": "code",
   "execution_count": 4,
   "metadata": {},
   "outputs": [],
   "source": [
    "img = cv.imread('sheets1.png', cv.IMREAD_UNCHANGED)\n",
    "img_rgb = cv.cvtColor(img.copy(), cv.COLOR_BGR2RGB)\n",
    "# plt.subplot(151),plt.imshow(img_rgb) \n",
    "# plt.title('Original Image'), plt.xticks([]), plt.yticks([])\n",
    "# plt.show()"
   ]
  },
  {
   "cell_type": "code",
   "execution_count": 5,
   "metadata": {},
   "outputs": [],
   "source": [
    "\n",
    "img_hsv = cv.cvtColor(img.copy(), cv.COLOR_BGR2HSV)\n",
    "\n",
    "# or the hue filter of the little triangle with the top and bottom of the cell\n",
    "# get the all the contours hierarchically\n",
    "# find the parent cell with only 1 contour child that has the triangle thing\n",
    "# check that the child is a triangle thing by running Ramer–Douglas–Peucker\n",
    "\n",
    "# active cell index\n",
    "# lower_active_cell = np.array([103,0,235])\n",
    "# upper_active_cell = np.array([113,10,245])\n",
    "\n",
    "# active cursor \n",
    "# lower_active_cell = np.array([105,220,230])\n",
    "# upper_active_cell = np.array([115,255,240])\n",
    "\n",
    "# top left arrow down\n",
    "# lower_active_cell = np.array([0,0,120])\n",
    "# upper_active_cell = np.array([0,0,125])\n",
    "\n",
    "# top left box\n",
    "lower_active_cell = np.array([0,0,200])\n",
    "upper_active_cell = np.array([0,0,210])\n",
    "\n",
    "\n",
    "mask = cv.inRange(img_hsv.copy(), lower_active_cell, upper_active_cell)\n",
    "res = cv.bitwise_and(img, img, mask= mask)\n",
    "\n",
    "# plt.subplot(154),plt.imshow(res)\n",
    "# plt.title('Res Image'), plt.xticks([]), plt.yticks([])"
   ]
  },
  {
   "cell_type": "code",
   "execution_count": 6,
   "metadata": {},
   "outputs": [],
   "source": [
    "edges = cv.Canny(res.copy(), 50, 300)\n",
    "# plt.subplot(154),plt.imshow(edges, cmap = 'gray')\n",
    "# plt.title('Edge Image'), plt.xticks([]), plt.yticks([])"
   ]
  },
  {
   "cell_type": "code",
   "execution_count": 7,
   "metadata": {},
   "outputs": [],
   "source": [
    "ret, thresh = cv.threshold(edges.copy() , 127, 255, cv.THRESH_BINARY)\n",
    "contours, hierarchy = cv.findContours(thresh, cv.RETR_LIST, cv.CHAIN_APPROX_SIMPLE)\n",
    "img_c = img.copy()\n",
    "# for c in contours:\n",
    "#     # find bounding box coordinates\n",
    "#     x,y,w,h = cv.boundingRect(c)\n",
    "#     cv.rectangle(img_c, (x,y), (x+w, y+h), (255, 0, 255), 5)\n",
    "for c in contours:\n",
    "    hull = cv.convexHull(c)\n",
    "    cv.drawContours(img_c, [hull], 0, (0, 255, 0), 2)\n",
    "\n",
    "# plt.subplot(152),plt.imshow(img_c)\n",
    "# plt.title('Contor Image'), plt.xticks([]), plt.yticks([])"
   ]
  },
  {
   "cell_type": "code",
   "execution_count": 60,
   "metadata": {},
   "outputs": [
    {
     "data": {
      "text/plain": "(1810, 2569, 4)"
     },
     "execution_count": 60,
     "metadata": {},
     "output_type": "execute_result"
    }
   ],
   "source": [
    "res.shape"
   ]
  },
  {
   "cell_type": "code",
   "execution_count": 228,
   "metadata": {},
   "outputs": [
    {
     "data": {
      "text/plain": "221.85"
     },
     "execution_count": 228,
     "metadata": {},
     "output_type": "execute_result"
    }
   ],
   "source": [
    "0.87*255"
   ]
  },
  {
   "cell_type": "code",
   "execution_count": 78,
   "metadata": {},
   "outputs": [
    {
     "data": {
      "text/plain": "204.0"
     },
     "execution_count": 78,
     "metadata": {},
     "output_type": "execute_result"
    }
   ],
   "source": [
    "\n",
    "0.80*255"
   ]
  },
  {
   "cell_type": "code",
   "execution_count": null,
   "metadata": {},
   "outputs": [],
   "source": []
  }
 ],
 "metadata": {
  "kernelspec": {
   "display_name": "Python 3.8.5  ('.venv': venv)",
   "name": "pythonjvsc74a57bd07a4c00f26fba55b162dda1c41ef35f72e19f12a47fcc9e095f7433c6d5063895"
  },
  "language_info": {
   "name": "python",
   "version": ""
  },
  "metadata": {
   "interpreter": {
    "hash": "7a4c00f26fba55b162dda1c41ef35f72e19f12a47fcc9e095f7433c6d5063895"
   }
  },
  "orig_nbformat": 3
 },
 "nbformat": 4,
 "nbformat_minor": 2
}